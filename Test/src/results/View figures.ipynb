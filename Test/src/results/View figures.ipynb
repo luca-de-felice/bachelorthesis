{
 "cells": [
  {
   "cell_type": "code",
   "execution_count": 64,
   "id": "b322f499",
   "metadata": {
    "scrolled": true
   },
   "outputs": [
    {
     "name": "stdout",
     "output_type": "stream",
     "text": [
      "General-#0.sca        General.anf           res.csv\r\n",
      "General-#0.vci        View figures.ipynb    successfulCommits.csv\r\n",
      "General-#0.vec        latency.csv\r\n"
     ]
    }
   ],
   "source": [
    "!ls"
   ]
  },
  {
   "cell_type": "code",
   "execution_count": 65,
   "id": "2fc97024",
   "metadata": {},
   "outputs": [],
   "source": [
    "import pandas as pd\n",
    "import numpy as np\n",
    "import matplotlib.pyplot as plt\n",
    "%matplotlib inline"
   ]
  },
  {
   "cell_type": "code",
   "execution_count": 66,
   "id": "851d3358",
   "metadata": {},
   "outputs": [],
   "source": [
    "def parse_if_number(s):\n",
    "    try: return float(s)\n",
    "    except: return True if s==\"true\" else False if s==\"false\" else s if s else None\n",
    "\n",
    "def parse_ndarray(s):\n",
    "    return np.fromstring(s, dtype=float, sep=' ') if s else None"
   ]
  },
  {
   "cell_type": "code",
   "execution_count": 79,
   "id": "55f95332",
   "metadata": {},
   "outputs": [
    {
     "data": {
      "text/plain": [
       "(array([ 7075.,  7350.,  7316.,  7796.,  8189.,  7782.,  6591.,  2861.,\n",
       "         2170.,  1545.,   827.,   156.,     0.,     0.,     0., 28330.,\n",
       "         3614.,  3981.,  4578.,  5059.]),\n",
       " array([8.9715200e-06, 1.1045824e-05, 1.3120128e-05, 1.5194432e-05,\n",
       "        1.7268736e-05, 1.9343040e-05, 2.1417344e-05, 2.3491648e-05,\n",
       "        2.5565952e-05, 2.7640256e-05, 2.9714560e-05, 3.1788864e-05,\n",
       "        3.3863168e-05, 3.5937472e-05, 3.8011776e-05, 4.0086080e-05,\n",
       "        4.2160384e-05, 4.4234688e-05, 4.6308992e-05, 4.8383296e-05,\n",
       "        5.0457600e-05]),\n",
       " <BarContainer object of 20 artists>)"
      ]
     },
     "execution_count": 79,
     "metadata": {},
     "output_type": "execute_result"
    },
    {
     "data": {
      "image/png": "[encoded data removed]",
      "text/plain": [
       "<Figure size 432x288 with 1 Axes>"
      ]
     },
     "metadata": {
      "needs_background": "light"
     },
     "output_type": "display_data"
    }
   ],
   "source": [
    "latency = pd.read_csv('latency.csv', converters = {\n",
    "    'attrvalue': parse_if_number,\n",
    "    'binedges': parse_ndarray,\n",
    "    'binvalues': parse_ndarray,\n",
    "    'vectime': parse_ndarray,\n",
    "    'vecvalue': parse_ndarray})\n",
    "\n",
    "latency = latency[latency.type=='vector']\n",
    "latency = latency.iloc[0]\n",
    "# plt.plot(latency.vectime, latency.vecvalue)\n",
    "plt.hist(latency.vecvalue, bins=20)"
   ]
  },
  {
   "cell_type": "code",
   "execution_count": 62,
   "id": "a267238e",
   "metadata": {},
   "outputs": [
    {
     "data": {
      "text/plain": [
       "[<matplotlib.lines.Line2D at 0x7fcb67b9ebb0>]"
      ]
     },
     "execution_count": 62,
     "metadata": {},
     "output_type": "execute_result"
    },
    {
     "data": {
      "image/png": "[encoded data removed]",
      "text/plain": [
       "<Figure size 432x288 with 1 Axes>"
      ]
     },
     "metadata": {
      "needs_background": "light"
     },
     "output_type": "display_data"
    }
   ],
   "source": [
    "commits = pd.read_csv('successfulCommits.csv', converters = {\n",
    "    'attrvalue': parse_if_number,\n",
    "    'binedges': parse_ndarray,\n",
    "    'binvalues': parse_ndarray,\n",
    "    'vectime': parse_ndarray,\n",
    "    'vecvalue': parse_ndarray})\n",
    "commits = commits[commits.type=='vector']\n",
    "successfulCommits = commits.iloc[0]\n",
    "plt.plot(successfulCommits.vectime, successfulCommits.vecvalue, drawstyle='steps-post')"
   ]
  }
 ],
 "metadata": {
  "kernelspec": {
   "display_name": "Python 3",
   "language": "python",
   "name": "python3"
  },
  "language_info": {
   "codemirror_mode": {
    "name": "ipython",
    "version": 3
   },
   "file_extension": ".py",
   "mimetype": "text/x-python",
   "name": "python",
   "nbconvert_exporter": "python",
   "pygments_lexer": "ipython3",
   "version": "3.8.8"
  }
 },
 "nbformat": 4,
 "nbformat_minor": 5
}
